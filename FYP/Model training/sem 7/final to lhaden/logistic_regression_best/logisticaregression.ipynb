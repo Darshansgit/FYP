{
  "cells": [
    {
      "cell_type": "code",
      "execution_count": 31,
      "metadata": {
        "id": "vZ1N0noWHAeK"
      },
      "outputs": [],
      "source": [
        "import pandas as pd\n",
        "import numpy as np \n",
        "from sklearn.model_selection import train_test_split\n",
        "from sklearn.linear_model import LogisticRegression \n",
        "from sklearn.metrics import accuracy_score"
      ]
    },
    {
      "cell_type": "code",
      "execution_count": 33,
      "metadata": {
        "id": "5WZbgNDgHEax"
      },
      "outputs": [],
      "source": [
        "df = pd.read_csv(\"3_dataset.csv\")\n",
        "df_required=df.drop([\"id\"],axis=1, inplace=True)"
      ]
    },
    {
      "cell_type": "code",
      "execution_count": 34,
      "metadata": {
        "id": "bef1UwWkNtB7"
      },
      "outputs": [],
      "source": [
        "X =  df.drop(columns=\"diagnosis\",axis=1)\n",
        "Y =  df[\"diagnosis\"]"
      ]
    },
    {
      "cell_type": "code",
      "execution_count": 35,
      "metadata": {
        "colab": {
          "base_uri": "https://localhost:8080/"
        },
        "id": "zQBaTwflPMXO",
        "outputId": "efc4a041-3339-49c9-da8f-8d223b008676"
      },
      "outputs": [
        {
          "output_type": "stream",
          "name": "stdout",
          "text": [
            "       age  gender  height  weight  ap_hi  ap_lo  cholesterol  gluc  smoke  \\\n",
            "0       50       2     168      62    110     80            1     1      0   \n",
            "1       55       1     156      85    140     90            3     1      0   \n",
            "2       51       1     165      64    130     70            3     1      0   \n",
            "3       48       2     169      82    150    100            1     1      0   \n",
            "4       47       1     156      56    100     60            1     1      0   \n",
            "...    ...     ...     ...     ...    ...    ...          ...   ...    ...   \n",
            "68583   52       2     168      76    120     80            1     1      1   \n",
            "68584   61       1     158     126    140     90            2     2      0   \n",
            "68585   52       2     183     105    180     90            3     1      0   \n",
            "68586   61       1     163      72    135     80            1     2      0   \n",
            "68587   56       1     170      72    120     80            2     1      0   \n",
            "\n",
            "       alco  active  cardio  \n",
            "0         0       1       0  \n",
            "1         0       1       1  \n",
            "2         0       0       1  \n",
            "3         0       1       1  \n",
            "4         0       0       0  \n",
            "...     ...     ...     ...  \n",
            "68583     0       1       0  \n",
            "68584     0       1       1  \n",
            "68585     1       0       1  \n",
            "68586     0       0       1  \n",
            "68587     0       1       0  \n",
            "\n",
            "[68588 rows x 12 columns]\n"
          ]
        }
      ],
      "source": [
        "print(X)"
      ]
    },
    {
      "cell_type": "code",
      "execution_count": 36,
      "metadata": {
        "colab": {
          "base_uri": "https://localhost:8080/"
        },
        "id": "GJ7LdxvyPT0l",
        "outputId": "090867ef-756f-45bd-db72-f4fda4a34f60"
      },
      "outputs": [
        {
          "output_type": "stream",
          "name": "stdout",
          "text": [
            "0        2\n",
            "1        3\n",
            "2        2\n",
            "3        3\n",
            "4        1\n",
            "        ..\n",
            "68583    2\n",
            "68584    3\n",
            "68585    3\n",
            "68586    2\n",
            "68587    2\n",
            "Name: diagnosis, Length: 68588, dtype: int64\n"
          ]
        }
      ],
      "source": [
        "print(Y)"
      ]
    },
    {
      "cell_type": "code",
      "execution_count": 37,
      "metadata": {
        "id": "m7UYYG--PzXF"
      },
      "outputs": [],
      "source": [
        "X_train, X_test, Y_train, Y_test = train_test_split(X,Y,test_size=0.2, stratify=Y, random_state=2 )"
      ]
    },
    {
      "cell_type": "code",
      "execution_count": 38,
      "metadata": {
        "colab": {
          "base_uri": "https://localhost:8080/"
        },
        "id": "Ik5lN-C0QsVK",
        "outputId": "cb8c26c3-1357-44e2-ca59-33ab86b7e57f"
      },
      "outputs": [
        {
          "output_type": "stream",
          "name": "stdout",
          "text": [
            "(68588, 12) (54870, 12) (13718, 12)\n"
          ]
        }
      ],
      "source": [
        "print(X.shape, X_train.shape, X_test.shape)"
      ]
    },
    {
      "cell_type": "code",
      "execution_count": 94,
      "metadata": {
        "id": "swjR8np9Q8jl"
      },
      "outputs": [],
      "source": [
        "model = LogisticRegression(max_iter=1000)"
      ]
    },
    {
      "cell_type": "code",
      "execution_count": 95,
      "metadata": {
        "colab": {
          "base_uri": "https://localhost:8080/"
        },
        "id": "gv1a6whnRJPB",
        "outputId": "e905655b-9000-4640-fddb-cf00f706d3c9"
      },
      "outputs": [
        {
          "output_type": "stream",
          "name": "stderr",
          "text": [
            "/usr/local/lib/python3.7/dist-packages/sklearn/linear_model/_logistic.py:818: ConvergenceWarning: lbfgs failed to converge (status=1):\n",
            "STOP: TOTAL NO. of ITERATIONS REACHED LIMIT.\n",
            "\n",
            "Increase the number of iterations (max_iter) or scale the data as shown in:\n",
            "    https://scikit-learn.org/stable/modules/preprocessing.html\n",
            "Please also refer to the documentation for alternative solver options:\n",
            "    https://scikit-learn.org/stable/modules/linear_model.html#logistic-regression\n",
            "  extra_warning_msg=_LOGISTIC_SOLVER_CONVERGENCE_MSG,\n"
          ]
        },
        {
          "output_type": "execute_result",
          "data": {
            "text/plain": [
              "LogisticRegression(max_iter=1000)"
            ]
          },
          "metadata": {},
          "execution_count": 95
        }
      ],
      "source": [
        "model.fit(X_train, Y_train)"
      ]
    },
    {
      "cell_type": "code",
      "execution_count": 96,
      "metadata": {
        "id": "MvE7DAFPRd5E"
      },
      "outputs": [],
      "source": [
        "y_train_prediction = model.predict(X_train)\n",
        "training_data_accuracy = accuracy_score(Y_train,y_train_prediction )"
      ]
    },
    {
      "cell_type": "code",
      "execution_count": 97,
      "metadata": {
        "colab": {
          "base_uri": "https://localhost:8080/"
        },
        "id": "3GQMrmp5R5Kl",
        "outputId": "b288c8a2-0c19-4c69-bcb0-b360435c2666"
      },
      "outputs": [
        {
          "output_type": "stream",
          "name": "stdout",
          "text": [
            "accuracy on training data: 0.928795334426827\n"
          ]
        }
      ],
      "source": [
        "print(\"accuracy on training data:\", training_data_accuracy)"
      ]
    },
    {
      "cell_type": "code",
      "execution_count": 98,
      "metadata": {
        "id": "kjftJjPASY5z"
      },
      "outputs": [],
      "source": [
        "X_test_prediction = model.predict(X_test)\n",
        "test_data_accuracy = accuracy_score(X_test_prediction,Y_test )"
      ]
    },
    {
      "cell_type": "code",
      "execution_count": 99,
      "metadata": {
        "colab": {
          "base_uri": "https://localhost:8080/"
        },
        "id": "SyX7X7hbRLI4",
        "outputId": "762b4d74-874e-497d-f5c7-2f2cdbd11596"
      },
      "outputs": [
        {
          "output_type": "stream",
          "name": "stdout",
          "text": [
            "accuracy on test data: 0.9310395101326724\n"
          ]
        }
      ],
      "source": [
        "print(\"accuracy on test data:\", test_data_accuracy)"
      ]
    },
    {
      "cell_type": "markdown",
      "metadata": {
        "id": "LQPRtN6EUCsu"
      },
      "source": [
        "Building a prediction system"
      ]
    },
    {
      "cell_type": "code",
      "execution_count": 81,
      "metadata": {
        "colab": {
          "base_uri": "https://localhost:8080/"
        },
        "id": "0TAa4pVhUO3Y",
        "outputId": "94b664ca-896a-4798-e845-fc8465701a76"
      },
      "outputs": [
        {
          "output_type": "stream",
          "name": "stdout",
          "text": [
            "[2]\n"
          ]
        },
        {
          "output_type": "stream",
          "name": "stderr",
          "text": [
            "/usr/local/lib/python3.7/dist-packages/sklearn/base.py:451: UserWarning: X does not have valid feature names, but LogisticRegression was fitted with feature names\n",
            "  \"X does not have valid feature names, but\"\n"
          ]
        }
      ],
      "source": [
        "input_data=(43,1,156,60,120,82,1,1,0,0,1,0)\n",
        "input_data_as_numpy_array= np.asarray(input_data)\n",
        "import_data_reshaped = input_data_as_numpy_array.reshape(1,12) \n",
        "prediction= model.predict(import_data_reshaped)\n",
        "print(prediction)"
      ]
    },
    {
      "cell_type": "code",
      "execution_count": null,
      "metadata": {
        "id": "4A1v8kgVSVHc"
      },
      "outputs": [],
      "source": []
    }
  ],
  "metadata": {
    "colab": {
      "collapsed_sections": [],
      "provenance": []
    },
    "kernelspec": {
      "display_name": "Python 3",
      "name": "python3"
    },
    "language_info": {
      "name": "python"
    }
  },
  "nbformat": 4,
  "nbformat_minor": 0
}